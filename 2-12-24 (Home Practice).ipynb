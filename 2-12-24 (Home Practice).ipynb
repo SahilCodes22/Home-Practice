{
 "cells": [
  {
   "cell_type": "code",
   "execution_count": 2,
   "metadata": {},
   "outputs": [
    {
     "name": "stdout",
     "output_type": "stream",
     "text": [
      "{}\n",
      "<class 'dict'>\n"
     ]
    }
   ],
   "source": [
    "# Creating an Empty Dictionary and Checking Type\n",
    "\n",
    "data={}\n",
    "\n",
    "print(data)\n",
    "\n",
    "print(type(data))"
   ]
  },
  {
   "cell_type": "code",
   "execution_count": 3,
   "metadata": {},
   "outputs": [
    {
     "name": "stdout",
     "output_type": "stream",
     "text": [
      "Sahil\n",
      "21\n",
      "168\n",
      "83\n"
     ]
    }
   ],
   "source": [
    "# Accessing Keys and Values\n",
    "\n",
    "data={\"Name\": \"Sahil\", \"Age\": 21, \"Height\" : 168, \"Weight\": 83 }\n",
    "\n",
    "print(data[\"Name\"])\n",
    "print(data[\"Age\"])\n",
    "print(data[\"Height\"])\n",
    "print(data[\"Weight\"])"
   ]
  },
  {
   "cell_type": "code",
   "execution_count": null,
   "metadata": {},
   "outputs": [
    {
     "name": "stdout",
     "output_type": "stream",
     "text": [
      "{'Name': 'Sahil', 'Age': 21, 'Height': 168, 'Weight': 83, 'City': 'Mumbai'}\n",
      "{'Name': 'Pankaj Sir', 'Age': 21, 'Height': 168, 'Weight': 83, 'City': 'Mumbai'}\n"
     ]
    }
   ],
   "source": [
    "# Adding New Keys and Values\n",
    "\n",
    "data={\"Name\": \"Sahil\", \"Age\": 21, \"Height\" : 168, \"Weight\": 83 }\n",
    "\n",
    "data[\"City\"] = \"Mumbai\"\n",
    "\n",
    "print(data)\n",
    "\n",
    "#Updating data\n",
    "\n",
    "data[\"Name\"] = \"Pankaj Sir\"\n",
    "\n",
    "print(data)"
   ]
  },
  {
   "cell_type": "code",
   "execution_count": 13,
   "metadata": {},
   "outputs": [
    {
     "name": "stdout",
     "output_type": "stream",
     "text": [
      "dict_keys(['Name', 'Age', 'Height', 'Weight', 'City'])\n",
      "dict_values(['Pankaj Sir', 21, 168, 83, 'Mumbai'])\n",
      "dict_items([('Name', 'Pankaj Sir'), ('Age', 21), ('Height', 168), ('Weight', 83), ('City', 'Mumbai')])\n",
      "None\n",
      "Pankaj Sir\n"
     ]
    }
   ],
   "source": [
    "# Methods\n",
    "\n",
    "# keys(): Returns a list of all keys in the dictionary.\n",
    "\n",
    "print(data.keys())\n",
    "\n",
    "# values(): Returns a list of all values in the dictionary.\n",
    "\n",
    "print(data.values())\n",
    "\n",
    "# items(): Returns a list of key-value pairs as tuples.\n",
    "\n",
    "print(data.items())\n",
    "\n",
    "# get(key, default): Returns the value for a key if it exists, else returns a default value.\n",
    "\n",
    "print(data.get(\"Ball\"))\n",
    "\n",
    "print(data.get(\"Name\"))\n",
    "\n"
   ]
  },
  {
   "cell_type": "code",
   "execution_count": 14,
   "metadata": {},
   "outputs": [
    {
     "name": "stdout",
     "output_type": "stream",
     "text": [
      "{'Age': 21, 'Height': 168, 'Weight': 83, 'City': 'Mumbai'}\n"
     ]
    }
   ],
   "source": [
    "# pop(key, default): Removes and returns the value associated with the key.\n",
    "\n",
    "data.pop(\"Name\")\n",
    "\n",
    "print(data)"
   ]
  },
  {
   "cell_type": "code",
   "execution_count": 22,
   "metadata": {},
   "outputs": [
    {
     "name": "stdout",
     "output_type": "stream",
     "text": [
      "Age:21\n",
      "Height:168\n",
      "Weight:83\n",
      "City:Mumbai\n"
     ]
    }
   ],
   "source": [
    "# Using loop print data\n",
    "\n",
    "for key,value in data.items():\n",
    "    print(f\"{key}:{value}\")"
   ]
  }
 ],
 "metadata": {
  "kernelspec": {
   "display_name": "Python 3",
   "language": "python",
   "name": "python3"
  },
  "language_info": {
   "codemirror_mode": {
    "name": "ipython",
    "version": 3
   },
   "file_extension": ".py",
   "mimetype": "text/x-python",
   "name": "python",
   "nbconvert_exporter": "python",
   "pygments_lexer": "ipython3",
   "version": "3.13.0"
  }
 },
 "nbformat": 4,
 "nbformat_minor": 2
}
